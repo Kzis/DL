{
  "nbformat": 4,
  "nbformat_minor": 0,
  "metadata": {
    "colab": {
      "name": "Fibonancci-Simple-RNN.ipynb",
      "provenance": [],
      "collapsed_sections": [],
      "authorship_tag": "ABX9TyPxYha/rMtBdjRMD7uqoO/0",
      "include_colab_link": true
    },
    "kernelspec": {
      "name": "python3",
      "display_name": "Python 3"
    }
  },
  "cells": [
    {
      "cell_type": "markdown",
      "metadata": {
        "id": "view-in-github",
        "colab_type": "text"
      },
      "source": [
        "<a href=\"https://colab.research.google.com/github/Kzis/DL/blob/master/Fibonancci_Simple_RNN.ipynb\" target=\"_parent\"><img src=\"https://colab.research.google.com/assets/colab-badge.svg\" alt=\"Open In Colab\"/></a>"
      ]
    },
    {
      "cell_type": "code",
      "metadata": {
        "id": "7wKc6VGWdM6i",
        "colab_type": "code",
        "colab": {}
      },
      "source": [
        "%tensorflow_version 2.x"
      ],
      "execution_count": 0,
      "outputs": []
    },
    {
      "cell_type": "code",
      "metadata": {
        "id": "wHXoYV-8dPVD",
        "colab_type": "code",
        "colab": {}
      },
      "source": [
        "import pandas as pd\n",
        "import numpy as np\n",
        "import matplotlib.pyplot as plt"
      ],
      "execution_count": 0,
      "outputs": []
    },
    {
      "cell_type": "code",
      "metadata": {
        "id": "jH6NDeV0dSOm",
        "colab_type": "code",
        "colab": {}
      },
      "source": [
        "from numpy.random import seed\n",
        "from tensorflow.random import set_seed\n",
        "seed(112)\n",
        "set_seed(112)"
      ],
      "execution_count": 0,
      "outputs": []
    },
    {
      "cell_type": "code",
      "metadata": {
        "id": "2Oie06J2dgI6",
        "colab_type": "code",
        "colab": {
          "base_uri": "https://localhost:8080/",
          "height": 212
        },
        "outputId": "2a2b09d7-7c5f-4624-d54c-34c4c890a26b"
      },
      "source": [
        "fib_data = pd.read_csv('fib87.csv', nrows=37)\n",
        "print(fib_data.shape)\n",
        "fib_data['num'] = fib_data['num'].astype(np.uint64)\n",
        "fib_data.head()"
      ],
      "execution_count": 4,
      "outputs": [
        {
          "output_type": "stream",
          "text": [
            "(37, 1)\n"
          ],
          "name": "stdout"
        },
        {
          "output_type": "execute_result",
          "data": {
            "text/html": [
              "<div>\n",
              "<style scoped>\n",
              "    .dataframe tbody tr th:only-of-type {\n",
              "        vertical-align: middle;\n",
              "    }\n",
              "\n",
              "    .dataframe tbody tr th {\n",
              "        vertical-align: top;\n",
              "    }\n",
              "\n",
              "    .dataframe thead th {\n",
              "        text-align: right;\n",
              "    }\n",
              "</style>\n",
              "<table border=\"1\" class=\"dataframe\">\n",
              "  <thead>\n",
              "    <tr style=\"text-align: right;\">\n",
              "      <th></th>\n",
              "      <th>num</th>\n",
              "    </tr>\n",
              "  </thead>\n",
              "  <tbody>\n",
              "    <tr>\n",
              "      <th>0</th>\n",
              "      <td>0</td>\n",
              "    </tr>\n",
              "    <tr>\n",
              "      <th>1</th>\n",
              "      <td>1</td>\n",
              "    </tr>\n",
              "    <tr>\n",
              "      <th>2</th>\n",
              "      <td>1</td>\n",
              "    </tr>\n",
              "    <tr>\n",
              "      <th>3</th>\n",
              "      <td>2</td>\n",
              "    </tr>\n",
              "    <tr>\n",
              "      <th>4</th>\n",
              "      <td>3</td>\n",
              "    </tr>\n",
              "  </tbody>\n",
              "</table>\n",
              "</div>"
            ],
            "text/plain": [
              "   num\n",
              "0    0\n",
              "1    1\n",
              "2    1\n",
              "3    2\n",
              "4    3"
            ]
          },
          "metadata": {
            "tags": []
          },
          "execution_count": 4
        }
      ]
    },
    {
      "cell_type": "code",
      "metadata": {
        "id": "1mUEVLu4j54s",
        "colab_type": "code",
        "colab": {
          "base_uri": "https://localhost:8080/",
          "height": 54
        },
        "outputId": "f32c91c8-ed74-420c-a6d5-901240fdcd9f"
      },
      "source": [
        "fib_list = fib_data.values.tolist()\n",
        "print(fib_list)"
      ],
      "execution_count": 14,
      "outputs": [
        {
          "output_type": "stream",
          "text": [
            "[[0], [1], [1], [2], [3], [5], [8], [13], [21], [34], [55], [89], [144], [233], [377], [610], [987], [1597], [2584], [4181], [6765], [10946], [17711], [28657], [46368], [75025], [121393], [196418], [317811], [514229], [832040], [1346269], [2178309], [3524578], [5702887], [9227465], [14930352]]\n"
          ],
          "name": "stdout"
        }
      ]
    },
    {
      "cell_type": "code",
      "metadata": {
        "id": "F3m1cWDvkRRm",
        "colab_type": "code",
        "colab": {
          "base_uri": "https://localhost:8080/",
          "height": 54
        },
        "outputId": "17d577ab-14cb-4346-a273-50f764a5da70"
      },
      "source": [
        "def flatten_list(l):\n",
        "  flat_list = []\n",
        "  for sublist in l:\n",
        "      for item in sublist:\n",
        "          flat_list.append(item)\n",
        "  return flat_list\n",
        "\n",
        "fib_list_flatten = flatten_list(fib_list)\n",
        "print(fib_list_flatten)\n"
      ],
      "execution_count": 16,
      "outputs": [
        {
          "output_type": "stream",
          "text": [
            "[0, 1, 1, 2, 3, 5, 8, 13, 21, 34, 55, 89, 144, 233, 377, 610, 987, 1597, 2584, 4181, 6765, 10946, 17711, 28657, 46368, 75025, 121393, 196418, 317811, 514229, 832040, 1346269, 2178309, 3524578, 5702887, 9227465, 14930352]\n"
          ],
          "name": "stdout"
        }
      ]
    },
    {
      "cell_type": "code",
      "metadata": {
        "id": "9UK4fbN-inzK",
        "colab_type": "code",
        "colab": {}
      },
      "source": [
        "out_put = []\n",
        "def create_fib_dataset(fib_list_flatten,input_n,output_n):\n",
        "  for idx, val in enumerate(fib_list_flatten):\n",
        "    if(idx == len(fib_list_flatten)-input_n-output_n) : \n",
        "      print(idx)\n",
        "      print(len(fib_list_flatten)-input_n-output_n)\n",
        "      print(idx,idx+input_n)\n",
        "      print(idx+input_n,idx+input_n+output_n)\n",
        "      break\n",
        "    temp = []\n",
        "    x = fib_list_flatten[idx:idx+input_n] \n",
        "    y = fib_list_flatten[idx+input_n:idx+input_n+output_n]\n",
        "    temp.append(idx)\n",
        "    temp.append(x)\n",
        "    temp.append(y)\n",
        "    out_put.append(temp)\n",
        "  return out_put"
      ],
      "execution_count": 0,
      "outputs": []
    },
    {
      "cell_type": "code",
      "metadata": {
        "id": "XJXnsAMeinJf",
        "colab_type": "code",
        "colab": {
          "base_uri": "https://localhost:8080/",
          "height": 84
        },
        "outputId": "cdab8545-4966-48a0-bb26-cf32721875bb"
      },
      "source": [
        "input_n = 7\n",
        "output_n = 5\n",
        "data_list = create_fib_dataset(fib_list_flatten,input_n,output_n)"
      ],
      "execution_count": 60,
      "outputs": [
        {
          "output_type": "stream",
          "text": [
            "25\n",
            "25\n",
            "25 32\n",
            "32 37\n"
          ],
          "name": "stdout"
        }
      ]
    },
    {
      "cell_type": "code",
      "metadata": {
        "id": "3B5svpojiaJq",
        "colab_type": "code",
        "colab": {
          "base_uri": "https://localhost:8080/",
          "height": 195
        },
        "outputId": "bd8a0af4-665d-4f2e-8f98-42d5132f1696"
      },
      "source": [
        "col_name = [\"#\", \"X\", \"Y\"]\n",
        "df = pd.DataFrame(data_list, columns=col_name)\n",
        "df.head()"
      ],
      "execution_count": 61,
      "outputs": [
        {
          "output_type": "execute_result",
          "data": {
            "text/html": [
              "<div>\n",
              "<style scoped>\n",
              "    .dataframe tbody tr th:only-of-type {\n",
              "        vertical-align: middle;\n",
              "    }\n",
              "\n",
              "    .dataframe tbody tr th {\n",
              "        vertical-align: top;\n",
              "    }\n",
              "\n",
              "    .dataframe thead th {\n",
              "        text-align: right;\n",
              "    }\n",
              "</style>\n",
              "<table border=\"1\" class=\"dataframe\">\n",
              "  <thead>\n",
              "    <tr style=\"text-align: right;\">\n",
              "      <th></th>\n",
              "      <th>#</th>\n",
              "      <th>X</th>\n",
              "      <th>Y</th>\n",
              "    </tr>\n",
              "  </thead>\n",
              "  <tbody>\n",
              "    <tr>\n",
              "      <th>0</th>\n",
              "      <td>0</td>\n",
              "      <td>[0, 1, 1, 2, 3, 5, 8]</td>\n",
              "      <td>[13, 21, 34, 55, 89]</td>\n",
              "    </tr>\n",
              "    <tr>\n",
              "      <th>1</th>\n",
              "      <td>1</td>\n",
              "      <td>[1, 1, 2, 3, 5, 8, 13]</td>\n",
              "      <td>[21, 34, 55, 89, 144]</td>\n",
              "    </tr>\n",
              "    <tr>\n",
              "      <th>2</th>\n",
              "      <td>2</td>\n",
              "      <td>[1, 2, 3, 5, 8, 13, 21]</td>\n",
              "      <td>[34, 55, 89, 144, 233]</td>\n",
              "    </tr>\n",
              "    <tr>\n",
              "      <th>3</th>\n",
              "      <td>3</td>\n",
              "      <td>[2, 3, 5, 8, 13, 21, 34]</td>\n",
              "      <td>[55, 89, 144, 233, 377]</td>\n",
              "    </tr>\n",
              "    <tr>\n",
              "      <th>4</th>\n",
              "      <td>4</td>\n",
              "      <td>[3, 5, 8, 13, 21, 34, 55]</td>\n",
              "      <td>[89, 144, 233, 377, 610]</td>\n",
              "    </tr>\n",
              "  </tbody>\n",
              "</table>\n",
              "</div>"
            ],
            "text/plain": [
              "   #                          X                         Y\n",
              "0  0      [0, 1, 1, 2, 3, 5, 8]      [13, 21, 34, 55, 89]\n",
              "1  1     [1, 1, 2, 3, 5, 8, 13]     [21, 34, 55, 89, 144]\n",
              "2  2    [1, 2, 3, 5, 8, 13, 21]    [34, 55, 89, 144, 233]\n",
              "3  3   [2, 3, 5, 8, 13, 21, 34]   [55, 89, 144, 233, 377]\n",
              "4  4  [3, 5, 8, 13, 21, 34, 55]  [89, 144, 233, 377, 610]"
            ]
          },
          "metadata": {
            "tags": []
          },
          "execution_count": 61
        }
      ]
    },
    {
      "cell_type": "code",
      "metadata": {
        "id": "OTkJl_2Y1HIF",
        "colab_type": "code",
        "colab": {
          "base_uri": "https://localhost:8080/",
          "height": 195
        },
        "outputId": "c4433afd-2efa-4a84-967c-068e8376fe99"
      },
      "source": [
        "df = df.sample(frac=1).reset_index(drop=True)\n",
        "df.head()"
      ],
      "execution_count": 99,
      "outputs": [
        {
          "output_type": "execute_result",
          "data": {
            "text/html": [
              "<div>\n",
              "<style scoped>\n",
              "    .dataframe tbody tr th:only-of-type {\n",
              "        vertical-align: middle;\n",
              "    }\n",
              "\n",
              "    .dataframe tbody tr th {\n",
              "        vertical-align: top;\n",
              "    }\n",
              "\n",
              "    .dataframe thead th {\n",
              "        text-align: right;\n",
              "    }\n",
              "</style>\n",
              "<table border=\"1\" class=\"dataframe\">\n",
              "  <thead>\n",
              "    <tr style=\"text-align: right;\">\n",
              "      <th></th>\n",
              "      <th>#</th>\n",
              "      <th>X</th>\n",
              "      <th>Y</th>\n",
              "    </tr>\n",
              "  </thead>\n",
              "  <tbody>\n",
              "    <tr>\n",
              "      <th>0</th>\n",
              "      <td>11</td>\n",
              "      <td>[89, 144, 233, 377, 610, 987, 1597]</td>\n",
              "      <td>[2584, 4181, 6765, 10946, 17711]</td>\n",
              "    </tr>\n",
              "    <tr>\n",
              "      <th>1</th>\n",
              "      <td>17</td>\n",
              "      <td>[1597, 2584, 4181, 6765, 10946, 17711, 28657]</td>\n",
              "      <td>[46368, 75025, 121393, 196418, 317811]</td>\n",
              "    </tr>\n",
              "    <tr>\n",
              "      <th>2</th>\n",
              "      <td>6</td>\n",
              "      <td>[8, 13, 21, 34, 55, 89, 144]</td>\n",
              "      <td>[233, 377, 610, 987, 1597]</td>\n",
              "    </tr>\n",
              "    <tr>\n",
              "      <th>3</th>\n",
              "      <td>13</td>\n",
              "      <td>[233, 377, 610, 987, 1597, 2584, 4181]</td>\n",
              "      <td>[6765, 10946, 17711, 28657, 46368]</td>\n",
              "    </tr>\n",
              "    <tr>\n",
              "      <th>4</th>\n",
              "      <td>15</td>\n",
              "      <td>[610, 987, 1597, 2584, 4181, 6765, 10946]</td>\n",
              "      <td>[17711, 28657, 46368, 75025, 121393]</td>\n",
              "    </tr>\n",
              "  </tbody>\n",
              "</table>\n",
              "</div>"
            ],
            "text/plain": [
              "    #  ...                                       Y\n",
              "0  11  ...        [2584, 4181, 6765, 10946, 17711]\n",
              "1  17  ...  [46368, 75025, 121393, 196418, 317811]\n",
              "2   6  ...              [233, 377, 610, 987, 1597]\n",
              "3  13  ...      [6765, 10946, 17711, 28657, 46368]\n",
              "4  15  ...    [17711, 28657, 46368, 75025, 121393]\n",
              "\n",
              "[5 rows x 3 columns]"
            ]
          },
          "metadata": {
            "tags": []
          },
          "execution_count": 99
        }
      ]
    },
    {
      "cell_type": "code",
      "metadata": {
        "id": "PeHASGanqBWL",
        "colab_type": "code",
        "colab": {
          "base_uri": "https://localhost:8080/",
          "height": 218
        },
        "outputId": "f33b17e1-593b-47f9-873d-8bac7e912c4f"
      },
      "source": [
        "from tensorflow.keras.models import Sequential\n",
        "from tensorflow.keras.layers import SimpleRNN, Dense\n",
        "\n",
        "my_rnn = Sequential()\n",
        "\n",
        "# batch_size=None, time_steps=None, input_dim=1\n",
        "# Output from this layer is (batch_size,units)=(batch_size,10)\n",
        "my_rnn.add( SimpleRNN( units=20, input_shape=(None,1) ) )\n",
        "\n",
        "# Use the default 'linear activation'\n",
        "my_rnn.add( Dense(5) )\n",
        "\n",
        "my_rnn.summary()"
      ],
      "execution_count": 36,
      "outputs": [
        {
          "output_type": "stream",
          "text": [
            "Model: \"sequential_1\"\n",
            "_________________________________________________________________\n",
            "Layer (type)                 Output Shape              Param #   \n",
            "=================================================================\n",
            "simple_rnn_1 (SimpleRNN)     (None, 20)                440       \n",
            "_________________________________________________________________\n",
            "dense_1 (Dense)              (None, 5)                 105       \n",
            "=================================================================\n",
            "Total params: 545\n",
            "Trainable params: 545\n",
            "Non-trainable params: 0\n",
            "_________________________________________________________________\n"
          ],
          "name": "stdout"
        }
      ]
    },
    {
      "cell_type": "code",
      "metadata": {
        "id": "ND7mCDK1qsju",
        "colab_type": "code",
        "colab": {}
      },
      "source": [
        "from tensorflow.keras.optimizers import Adam\n",
        "from tensorflow.keras.metrics import mean_squared_error\n",
        "\n",
        "adam = Adam(lr=0.01)\n",
        "my_rnn.compile( loss=\"mse\", optimizer=adam, metrics=[mean_squared_error] )"
      ],
      "execution_count": 0,
      "outputs": []
    },
    {
      "cell_type": "code",
      "metadata": {
        "id": "qXB3WBFCq1Fh",
        "colab_type": "code",
        "colab": {
          "base_uri": "https://localhost:8080/",
          "height": 50
        },
        "outputId": "bdfe5215-50a9-4aa0-b273-7888b042edbc"
      },
      "source": [
        "from sklearn.preprocessing import MinMaxScaler\n",
        "\n",
        "# Min-max scaling to normalize the data to the range [0, 1]\n",
        "# .fit_transform expects 2D input\n",
        "x_train = df.iloc[0:10]['X'].to_list()\n",
        "x_test = df.iloc[10:15]['X'].to_list()\n",
        "x_val = df.iloc[15:24]['X'].to_list()\n",
        "y_train= df.iloc[0:10]['Y'].to_list()\n",
        "y_test= df.iloc[10:15]['Y'].to_list()\n",
        "y_val= df.iloc[15:24]['Y'].to_list()\n",
        "\n",
        "x_minmax_norm = MinMaxScaler().fit(x_train)\n",
        "print( \"x min-max:\" , x_minmax_norm.data_min_ , x_minmax_norm.data_max_ )\n",
        "\n",
        "y_minmax_norm = MinMaxScaler().fit( y_train )\n",
        "print( \"y min-max:\" , y_minmax_norm.data_min_ , y_minmax_norm.data_max_ ) \n",
        "\n",
        "# Apply the normalizer to validation and test sets as well\n",
        "x_train = x_minmax_norm.transform( x_train )\n",
        "x_test = x_minmax_norm.transform( x_test )\n",
        "x_val = x_minmax_norm.transform( x_val )\n",
        "y_train = y_minmax_norm.transform( y_train )\n",
        "y_test = y_minmax_norm.transform( y_test )\n",
        "y_val = y_minmax_norm.transform( y_val )\n"
      ],
      "execution_count": 100,
      "outputs": [
        {
          "output_type": "stream",
          "text": [
            "x min-max: [0. 1. 1. 2. 3. 5. 8.] [ 28657.  46368.  75025. 121393. 196418. 317811. 514229.]\n",
            "y min-max: [13. 21. 34. 55. 89.] [ 832040. 1346269. 2178309. 3524578. 5702887.]\n"
          ],
          "name": "stdout"
        }
      ]
    },
    {
      "cell_type": "code",
      "metadata": {
        "id": "L8LvKfXvuwnX",
        "colab_type": "code",
        "colab": {
          "base_uri": "https://localhost:8080/",
          "height": 168
        },
        "outputId": "2636f0cf-f7ce-494c-f0fd-6f33de98e9f1"
      },
      "source": [
        "print(\"Dimension of x before changed:\")\n",
        "print( \"x_train:\" , x_train.shape )\n",
        "print( \"x_test:\" , x_test.shape )\n",
        "print( \"x_val:\" , x_val.shape )\n",
        "\n",
        "x_train = x_train[ ..., np.newaxis ]\n",
        "x_test = x_test[ ..., np.newaxis ]\n",
        "x_val = x_val[ ..., np.newaxis ]\n",
        "\n",
        "print(\"\\nDimension of x after changed:\")\n",
        "print( \"x_train:\" , x_train.shape )\n",
        "print( \"x_test:\" , x_test.shape )\n",
        "print( \"x_val:\" , x_val.shape )\n",
        "\n",
        "# Convert everything to the default of float32\n",
        "x_train = x_train.astype(np.float32)\n",
        "x_test = x_test.astype(np.float32)\n",
        "x_val = x_val.astype(np.float32)\n",
        "y_train = y_train.astype(np.float32)\n",
        "y_test = y_test.astype(np.float32)\n",
        "y_val = y_val.astype(np.float32)"
      ],
      "execution_count": 101,
      "outputs": [
        {
          "output_type": "stream",
          "text": [
            "Dimension of x before changed:\n",
            "x_train: (10, 7)\n",
            "x_test: (5, 7)\n",
            "x_val: (9, 7)\n",
            "\n",
            "Dimension of x after changed:\n",
            "x_train: (10, 7, 1)\n",
            "x_test: (5, 7, 1)\n",
            "x_val: (9, 7, 1)\n"
          ],
          "name": "stdout"
        }
      ]
    },
    {
      "cell_type": "code",
      "metadata": {
        "id": "FQtGkxdlvZ2e",
        "colab_type": "code",
        "colab": {}
      },
      "source": [
        "from tensorflow.keras.callbacks import ModelCheckpoint\n",
        "\n",
        "#checkpoint = ModelCheckpoint('ex10_04_RNN_best_{epoch:04d}.hdf5', save_best_only=True, monitor=\"val_loss\", mode='min')  \n",
        "checkpoint = ModelCheckpoint('ex10_04_RNN_best.hdf5', save_best_only=True, monitor=\"val_loss\", mode='min', save_weights_only=False)  "
      ],
      "execution_count": 0,
      "outputs": []
    },
    {
      "cell_type": "code",
      "metadata": {
        "id": "QKZAHYtku3AV",
        "colab_type": "code",
        "colab": {
          "base_uri": "https://localhost:8080/",
          "height": 1000
        },
        "outputId": "ed7810ca-d7cd-481f-b9d6-a12608c7e6d4"
      },
      "source": [
        "hist = my_rnn.fit ( x_train, y_train, validation_data=(x_val,y_val), batch_size=64, epochs=100, callbacks=[checkpoint] )"
      ],
      "execution_count": 102,
      "outputs": [
        {
          "output_type": "stream",
          "text": [
            "Epoch 1/100\n",
            "1/1 [==============================] - 0s 54ms/step - loss: 1.0037e-05 - mean_squared_error: 1.0037e-05 - val_loss: 9.2009e-06 - val_mean_squared_error: 9.2009e-06\n",
            "Epoch 2/100\n",
            "1/1 [==============================] - 0s 51ms/step - loss: 7.5860e-06 - mean_squared_error: 7.5860e-06 - val_loss: 6.9063e-06 - val_mean_squared_error: 6.9063e-06\n",
            "Epoch 3/100\n",
            "1/1 [==============================] - 0s 55ms/step - loss: 4.6951e-06 - mean_squared_error: 4.6951e-06 - val_loss: 4.5869e-06 - val_mean_squared_error: 4.5869e-06\n",
            "Epoch 4/100\n",
            "1/1 [==============================] - 1s 509ms/step - loss: 2.2265e-06 - mean_squared_error: 2.2265e-06 - val_loss: 3.0014e-06 - val_mean_squared_error: 3.0014e-06\n",
            "Epoch 5/100\n",
            "1/1 [==============================] - 0s 52ms/step - loss: 9.2945e-07 - mean_squared_error: 9.2945e-07 - val_loss: 2.9277e-06 - val_mean_squared_error: 2.9277e-06\n",
            "Epoch 6/100\n",
            "1/1 [==============================] - 0s 35ms/step - loss: 1.2606e-06 - mean_squared_error: 1.2606e-06 - val_loss: 4.1209e-06 - val_mean_squared_error: 4.1209e-06\n",
            "Epoch 7/100\n",
            "1/1 [==============================] - 0s 34ms/step - loss: 2.3013e-06 - mean_squared_error: 2.3013e-06 - val_loss: 5.7827e-06 - val_mean_squared_error: 5.7827e-06\n",
            "Epoch 8/100\n",
            "1/1 [==============================] - 0s 39ms/step - loss: 3.2542e-06 - mean_squared_error: 3.2542e-06 - val_loss: 6.8730e-06 - val_mean_squared_error: 6.8730e-06\n",
            "Epoch 9/100\n",
            "1/1 [==============================] - 0s 37ms/step - loss: 3.8090e-06 - mean_squared_error: 3.8090e-06 - val_loss: 6.6674e-06 - val_mean_squared_error: 6.6674e-06\n",
            "Epoch 10/100\n",
            "1/1 [==============================] - 0s 36ms/step - loss: 3.6308e-06 - mean_squared_error: 3.6308e-06 - val_loss: 5.4868e-06 - val_mean_squared_error: 5.4868e-06\n",
            "Epoch 11/100\n",
            "1/1 [==============================] - 0s 37ms/step - loss: 2.8907e-06 - mean_squared_error: 2.8907e-06 - val_loss: 4.2239e-06 - val_mean_squared_error: 4.2239e-06\n",
            "Epoch 12/100\n",
            "1/1 [==============================] - 0s 36ms/step - loss: 2.0216e-06 - mean_squared_error: 2.0216e-06 - val_loss: 3.5908e-06 - val_mean_squared_error: 3.5908e-06\n",
            "Epoch 13/100\n",
            "1/1 [==============================] - 0s 45ms/step - loss: 1.2791e-06 - mean_squared_error: 1.2791e-06 - val_loss: 3.6656e-06 - val_mean_squared_error: 3.6656e-06\n",
            "Epoch 14/100\n",
            "1/1 [==============================] - 0s 39ms/step - loss: 8.5199e-07 - mean_squared_error: 8.5199e-07 - val_loss: 4.0143e-06 - val_mean_squared_error: 4.0143e-06\n",
            "Epoch 15/100\n",
            "1/1 [==============================] - 0s 40ms/step - loss: 8.0770e-07 - mean_squared_error: 8.0770e-07 - val_loss: 4.3005e-06 - val_mean_squared_error: 4.3005e-06\n",
            "Epoch 16/100\n",
            "1/1 [==============================] - 0s 37ms/step - loss: 1.0496e-06 - mean_squared_error: 1.0496e-06 - val_loss: 4.4067e-06 - val_mean_squared_error: 4.4067e-06\n",
            "Epoch 17/100\n",
            "1/1 [==============================] - 0s 37ms/step - loss: 1.3360e-06 - mean_squared_error: 1.3360e-06 - val_loss: 4.4169e-06 - val_mean_squared_error: 4.4169e-06\n",
            "Epoch 18/100\n",
            "1/1 [==============================] - 0s 37ms/step - loss: 1.4696e-06 - mean_squared_error: 1.4696e-06 - val_loss: 4.4500e-06 - val_mean_squared_error: 4.4500e-06\n",
            "Epoch 19/100\n",
            "1/1 [==============================] - 0s 36ms/step - loss: 1.3955e-06 - mean_squared_error: 1.3955e-06 - val_loss: 4.3471e-06 - val_mean_squared_error: 4.3471e-06\n",
            "Epoch 20/100\n",
            "1/1 [==============================] - 0s 34ms/step - loss: 1.0869e-06 - mean_squared_error: 1.0869e-06 - val_loss: 4.0410e-06 - val_mean_squared_error: 4.0410e-06\n",
            "Epoch 21/100\n",
            "1/1 [==============================] - 0s 34ms/step - loss: 7.1094e-07 - mean_squared_error: 7.1094e-07 - val_loss: 3.7163e-06 - val_mean_squared_error: 3.7163e-06\n",
            "Epoch 22/100\n",
            "1/1 [==============================] - 0s 46ms/step - loss: 4.8652e-07 - mean_squared_error: 4.8652e-07 - val_loss: 3.5216e-06 - val_mean_squared_error: 3.5216e-06\n",
            "Epoch 23/100\n",
            "1/1 [==============================] - 0s 35ms/step - loss: 4.1640e-07 - mean_squared_error: 4.1640e-07 - val_loss: 3.6041e-06 - val_mean_squared_error: 3.6041e-06\n",
            "Epoch 24/100\n",
            "1/1 [==============================] - 0s 36ms/step - loss: 4.9766e-07 - mean_squared_error: 4.9766e-07 - val_loss: 3.9034e-06 - val_mean_squared_error: 3.9034e-06\n",
            "Epoch 25/100\n",
            "1/1 [==============================] - 0s 36ms/step - loss: 6.4383e-07 - mean_squared_error: 6.4383e-07 - val_loss: 4.1477e-06 - val_mean_squared_error: 4.1477e-06\n",
            "Epoch 26/100\n",
            "1/1 [==============================] - 0s 35ms/step - loss: 6.7171e-07 - mean_squared_error: 6.7171e-07 - val_loss: 4.2752e-06 - val_mean_squared_error: 4.2752e-06\n",
            "Epoch 27/100\n",
            "1/1 [==============================] - 0s 36ms/step - loss: 5.9571e-07 - mean_squared_error: 5.9571e-07 - val_loss: 4.3306e-06 - val_mean_squared_error: 4.3306e-06\n",
            "Epoch 28/100\n",
            "1/1 [==============================] - 0s 36ms/step - loss: 4.6352e-07 - mean_squared_error: 4.6352e-07 - val_loss: 4.3518e-06 - val_mean_squared_error: 4.3518e-06\n",
            "Epoch 29/100\n",
            "1/1 [==============================] - 0s 41ms/step - loss: 3.0550e-07 - mean_squared_error: 3.0550e-07 - val_loss: 4.4199e-06 - val_mean_squared_error: 4.4199e-06\n",
            "Epoch 30/100\n",
            "1/1 [==============================] - 0s 41ms/step - loss: 2.3296e-07 - mean_squared_error: 2.3296e-07 - val_loss: 4.5005e-06 - val_mean_squared_error: 4.5005e-06\n",
            "Epoch 31/100\n",
            "1/1 [==============================] - 0s 34ms/step - loss: 2.3800e-07 - mean_squared_error: 2.3800e-07 - val_loss: 4.5671e-06 - val_mean_squared_error: 4.5671e-06\n",
            "Epoch 32/100\n",
            "1/1 [==============================] - 0s 45ms/step - loss: 2.6600e-07 - mean_squared_error: 2.6600e-07 - val_loss: 4.6575e-06 - val_mean_squared_error: 4.6575e-06\n",
            "Epoch 33/100\n",
            "1/1 [==============================] - 0s 38ms/step - loss: 3.1060e-07 - mean_squared_error: 3.1060e-07 - val_loss: 4.7044e-06 - val_mean_squared_error: 4.7044e-06\n",
            "Epoch 34/100\n",
            "1/1 [==============================] - 0s 35ms/step - loss: 3.1754e-07 - mean_squared_error: 3.1754e-07 - val_loss: 4.6360e-06 - val_mean_squared_error: 4.6360e-06\n",
            "Epoch 35/100\n",
            "1/1 [==============================] - 0s 37ms/step - loss: 2.8025e-07 - mean_squared_error: 2.8025e-07 - val_loss: 4.4611e-06 - val_mean_squared_error: 4.4611e-06\n",
            "Epoch 36/100\n",
            "1/1 [==============================] - 0s 44ms/step - loss: 2.3160e-07 - mean_squared_error: 2.3160e-07 - val_loss: 4.2741e-06 - val_mean_squared_error: 4.2741e-06\n",
            "Epoch 37/100\n",
            "1/1 [==============================] - 0s 43ms/step - loss: 1.7336e-07 - mean_squared_error: 1.7336e-07 - val_loss: 4.2376e-06 - val_mean_squared_error: 4.2376e-06\n",
            "Epoch 38/100\n",
            "1/1 [==============================] - 0s 36ms/step - loss: 1.3078e-07 - mean_squared_error: 1.3078e-07 - val_loss: 4.3853e-06 - val_mean_squared_error: 4.3853e-06\n",
            "Epoch 39/100\n",
            "1/1 [==============================] - 0s 37ms/step - loss: 1.1815e-07 - mean_squared_error: 1.1815e-07 - val_loss: 4.5766e-06 - val_mean_squared_error: 4.5766e-06\n",
            "Epoch 40/100\n",
            "1/1 [==============================] - 0s 35ms/step - loss: 1.2464e-07 - mean_squared_error: 1.2464e-07 - val_loss: 4.6676e-06 - val_mean_squared_error: 4.6676e-06\n",
            "Epoch 41/100\n",
            "1/1 [==============================] - 0s 50ms/step - loss: 1.4362e-07 - mean_squared_error: 1.4362e-07 - val_loss: 4.6513e-06 - val_mean_squared_error: 4.6513e-06\n",
            "Epoch 42/100\n",
            "1/1 [==============================] - 0s 39ms/step - loss: 1.5909e-07 - mean_squared_error: 1.5909e-07 - val_loss: 4.6587e-06 - val_mean_squared_error: 4.6587e-06\n",
            "Epoch 43/100\n",
            "1/1 [==============================] - 0s 37ms/step - loss: 1.5711e-07 - mean_squared_error: 1.5711e-07 - val_loss: 4.7806e-06 - val_mean_squared_error: 4.7806e-06\n",
            "Epoch 44/100\n",
            "1/1 [==============================] - 0s 37ms/step - loss: 1.3633e-07 - mean_squared_error: 1.3633e-07 - val_loss: 4.9392e-06 - val_mean_squared_error: 4.9392e-06\n",
            "Epoch 45/100\n",
            "1/1 [==============================] - 0s 37ms/step - loss: 1.0723e-07 - mean_squared_error: 1.0723e-07 - val_loss: 4.9869e-06 - val_mean_squared_error: 4.9869e-06\n",
            "Epoch 46/100\n",
            "1/1 [==============================] - 0s 36ms/step - loss: 8.1860e-08 - mean_squared_error: 8.1860e-08 - val_loss: 4.8936e-06 - val_mean_squared_error: 4.8936e-06\n",
            "Epoch 47/100\n",
            "1/1 [==============================] - 0s 36ms/step - loss: 6.8564e-08 - mean_squared_error: 6.8564e-08 - val_loss: 4.7960e-06 - val_mean_squared_error: 4.7960e-06\n",
            "Epoch 48/100\n",
            "1/1 [==============================] - 0s 36ms/step - loss: 7.2023e-08 - mean_squared_error: 7.2023e-08 - val_loss: 4.8316e-06 - val_mean_squared_error: 4.8316e-06\n",
            "Epoch 49/100\n",
            "1/1 [==============================] - 0s 39ms/step - loss: 8.1238e-08 - mean_squared_error: 8.1238e-08 - val_loss: 4.9718e-06 - val_mean_squared_error: 4.9718e-06\n",
            "Epoch 50/100\n",
            "1/1 [==============================] - 0s 35ms/step - loss: 8.7617e-08 - mean_squared_error: 8.7617e-08 - val_loss: 5.0579e-06 - val_mean_squared_error: 5.0579e-06\n",
            "Epoch 51/100\n",
            "1/1 [==============================] - 0s 47ms/step - loss: 8.8075e-08 - mean_squared_error: 8.8075e-08 - val_loss: 4.9886e-06 - val_mean_squared_error: 4.9886e-06\n",
            "Epoch 52/100\n",
            "1/1 [==============================] - 0s 41ms/step - loss: 7.8100e-08 - mean_squared_error: 7.8100e-08 - val_loss: 4.8453e-06 - val_mean_squared_error: 4.8453e-06\n",
            "Epoch 53/100\n",
            "1/1 [==============================] - 0s 36ms/step - loss: 6.6356e-08 - mean_squared_error: 6.6356e-08 - val_loss: 4.7824e-06 - val_mean_squared_error: 4.7824e-06\n",
            "Epoch 54/100\n",
            "1/1 [==============================] - 0s 35ms/step - loss: 5.7638e-08 - mean_squared_error: 5.7638e-08 - val_loss: 4.8434e-06 - val_mean_squared_error: 4.8434e-06\n",
            "Epoch 55/100\n",
            "1/1 [==============================] - 0s 35ms/step - loss: 5.1875e-08 - mean_squared_error: 5.1875e-08 - val_loss: 4.9267e-06 - val_mean_squared_error: 4.9267e-06\n",
            "Epoch 56/100\n",
            "1/1 [==============================] - 0s 39ms/step - loss: 5.2285e-08 - mean_squared_error: 5.2285e-08 - val_loss: 4.9202e-06 - val_mean_squared_error: 4.9202e-06\n",
            "Epoch 57/100\n",
            "1/1 [==============================] - 0s 36ms/step - loss: 5.3191e-08 - mean_squared_error: 5.3191e-08 - val_loss: 4.8443e-06 - val_mean_squared_error: 4.8443e-06\n",
            "Epoch 58/100\n",
            "1/1 [==============================] - 0s 37ms/step - loss: 5.2770e-08 - mean_squared_error: 5.2770e-08 - val_loss: 4.8148e-06 - val_mean_squared_error: 4.8148e-06\n",
            "Epoch 59/100\n",
            "1/1 [==============================] - 0s 34ms/step - loss: 5.1841e-08 - mean_squared_error: 5.1841e-08 - val_loss: 4.8896e-06 - val_mean_squared_error: 4.8896e-06\n",
            "Epoch 60/100\n",
            "1/1 [==============================] - 0s 44ms/step - loss: 4.8266e-08 - mean_squared_error: 4.8266e-08 - val_loss: 5.0039e-06 - val_mean_squared_error: 5.0039e-06\n",
            "Epoch 61/100\n",
            "1/1 [==============================] - 0s 35ms/step - loss: 4.4915e-08 - mean_squared_error: 4.4915e-08 - val_loss: 5.0541e-06 - val_mean_squared_error: 5.0541e-06\n",
            "Epoch 62/100\n",
            "1/1 [==============================] - 0s 37ms/step - loss: 4.2055e-08 - mean_squared_error: 4.2055e-08 - val_loss: 5.0235e-06 - val_mean_squared_error: 5.0235e-06\n",
            "Epoch 63/100\n",
            "1/1 [==============================] - 0s 40ms/step - loss: 3.9338e-08 - mean_squared_error: 3.9338e-08 - val_loss: 4.9857e-06 - val_mean_squared_error: 4.9857e-06\n",
            "Epoch 64/100\n",
            "1/1 [==============================] - 0s 36ms/step - loss: 3.8113e-08 - mean_squared_error: 3.8113e-08 - val_loss: 4.9988e-06 - val_mean_squared_error: 4.9988e-06\n",
            "Epoch 65/100\n",
            "1/1 [==============================] - 0s 37ms/step - loss: 3.7263e-08 - mean_squared_error: 3.7263e-08 - val_loss: 5.0371e-06 - val_mean_squared_error: 5.0371e-06\n",
            "Epoch 66/100\n",
            "1/1 [==============================] - 0s 35ms/step - loss: 3.6624e-08 - mean_squared_error: 3.6624e-08 - val_loss: 5.0353e-06 - val_mean_squared_error: 5.0353e-06\n",
            "Epoch 67/100\n",
            "1/1 [==============================] - 0s 37ms/step - loss: 3.5824e-08 - mean_squared_error: 3.5824e-08 - val_loss: 4.9787e-06 - val_mean_squared_error: 4.9787e-06\n",
            "Epoch 68/100\n",
            "1/1 [==============================] - 0s 39ms/step - loss: 3.4211e-08 - mean_squared_error: 3.4211e-08 - val_loss: 4.9168e-06 - val_mean_squared_error: 4.9168e-06\n",
            "Epoch 69/100\n",
            "1/1 [==============================] - 0s 37ms/step - loss: 3.2188e-08 - mean_squared_error: 3.2188e-08 - val_loss: 4.8987e-06 - val_mean_squared_error: 4.8987e-06\n",
            "Epoch 70/100\n",
            "1/1 [==============================] - 0s 49ms/step - loss: 3.0400e-08 - mean_squared_error: 3.0400e-08 - val_loss: 4.9182e-06 - val_mean_squared_error: 4.9182e-06\n",
            "Epoch 71/100\n",
            "1/1 [==============================] - 0s 34ms/step - loss: 2.9269e-08 - mean_squared_error: 2.9269e-08 - val_loss: 4.9342e-06 - val_mean_squared_error: 4.9342e-06\n",
            "Epoch 72/100\n",
            "1/1 [==============================] - 0s 38ms/step - loss: 2.8774e-08 - mean_squared_error: 2.8774e-08 - val_loss: 4.9275e-06 - val_mean_squared_error: 4.9275e-06\n",
            "Epoch 73/100\n",
            "1/1 [==============================] - 0s 36ms/step - loss: 2.8629e-08 - mean_squared_error: 2.8629e-08 - val_loss: 4.9158e-06 - val_mean_squared_error: 4.9158e-06\n",
            "Epoch 74/100\n",
            "1/1 [==============================] - 0s 43ms/step - loss: 2.8015e-08 - mean_squared_error: 2.8015e-08 - val_loss: 4.9214e-06 - val_mean_squared_error: 4.9214e-06\n",
            "Epoch 75/100\n",
            "1/1 [==============================] - 0s 36ms/step - loss: 2.6968e-08 - mean_squared_error: 2.6968e-08 - val_loss: 4.9411e-06 - val_mean_squared_error: 4.9411e-06\n",
            "Epoch 76/100\n",
            "1/1 [==============================] - 0s 38ms/step - loss: 2.5764e-08 - mean_squared_error: 2.5764e-08 - val_loss: 4.9555e-06 - val_mean_squared_error: 4.9555e-06\n",
            "Epoch 77/100\n",
            "1/1 [==============================] - 0s 43ms/step - loss: 2.4541e-08 - mean_squared_error: 2.4541e-08 - val_loss: 4.9580e-06 - val_mean_squared_error: 4.9580e-06\n",
            "Epoch 78/100\n",
            "1/1 [==============================] - 0s 36ms/step - loss: 2.3864e-08 - mean_squared_error: 2.3864e-08 - val_loss: 4.9555e-06 - val_mean_squared_error: 4.9555e-06\n",
            "Epoch 79/100\n",
            "1/1 [==============================] - 0s 47ms/step - loss: 2.3339e-08 - mean_squared_error: 2.3339e-08 - val_loss: 4.9555e-06 - val_mean_squared_error: 4.9555e-06\n",
            "Epoch 80/100\n",
            "1/1 [==============================] - 0s 35ms/step - loss: 2.2910e-08 - mean_squared_error: 2.2910e-08 - val_loss: 4.9568e-06 - val_mean_squared_error: 4.9568e-06\n",
            "Epoch 81/100\n",
            "1/1 [==============================] - 0s 36ms/step - loss: 2.2559e-08 - mean_squared_error: 2.2559e-08 - val_loss: 4.9560e-06 - val_mean_squared_error: 4.9560e-06\n",
            "Epoch 82/100\n",
            "1/1 [==============================] - 0s 38ms/step - loss: 2.2024e-08 - mean_squared_error: 2.2024e-08 - val_loss: 4.9542e-06 - val_mean_squared_error: 4.9542e-06\n",
            "Epoch 83/100\n",
            "1/1 [==============================] - 0s 39ms/step - loss: 2.1578e-08 - mean_squared_error: 2.1578e-08 - val_loss: 4.9512e-06 - val_mean_squared_error: 4.9512e-06\n",
            "Epoch 84/100\n",
            "1/1 [==============================] - 0s 42ms/step - loss: 2.1012e-08 - mean_squared_error: 2.1012e-08 - val_loss: 4.9431e-06 - val_mean_squared_error: 4.9431e-06\n",
            "Epoch 85/100\n",
            "1/1 [==============================] - 0s 48ms/step - loss: 2.0362e-08 - mean_squared_error: 2.0362e-08 - val_loss: 4.9293e-06 - val_mean_squared_error: 4.9293e-06\n",
            "Epoch 86/100\n",
            "1/1 [==============================] - 0s 36ms/step - loss: 1.9771e-08 - mean_squared_error: 1.9771e-08 - val_loss: 4.9175e-06 - val_mean_squared_error: 4.9175e-06\n",
            "Epoch 87/100\n",
            "1/1 [==============================] - 0s 36ms/step - loss: 1.9214e-08 - mean_squared_error: 1.9214e-08 - val_loss: 4.9169e-06 - val_mean_squared_error: 4.9169e-06\n",
            "Epoch 88/100\n",
            "1/1 [==============================] - 0s 38ms/step - loss: 1.8891e-08 - mean_squared_error: 1.8891e-08 - val_loss: 4.9231e-06 - val_mean_squared_error: 4.9231e-06\n",
            "Epoch 89/100\n",
            "1/1 [==============================] - 0s 48ms/step - loss: 1.8679e-08 - mean_squared_error: 1.8679e-08 - val_loss: 4.9248e-06 - val_mean_squared_error: 4.9248e-06\n",
            "Epoch 90/100\n",
            "1/1 [==============================] - 0s 45ms/step - loss: 1.8467e-08 - mean_squared_error: 1.8467e-08 - val_loss: 4.9198e-06 - val_mean_squared_error: 4.9198e-06\n",
            "Epoch 91/100\n",
            "1/1 [==============================] - 0s 44ms/step - loss: 1.8178e-08 - mean_squared_error: 1.8178e-08 - val_loss: 4.9187e-06 - val_mean_squared_error: 4.9187e-06\n",
            "Epoch 92/100\n",
            "1/1 [==============================] - 0s 41ms/step - loss: 1.7763e-08 - mean_squared_error: 1.7763e-08 - val_loss: 4.9297e-06 - val_mean_squared_error: 4.9297e-06\n",
            "Epoch 93/100\n",
            "1/1 [==============================] - 0s 39ms/step - loss: 1.7321e-08 - mean_squared_error: 1.7321e-08 - val_loss: 4.9445e-06 - val_mean_squared_error: 4.9445e-06\n",
            "Epoch 94/100\n",
            "1/1 [==============================] - 0s 39ms/step - loss: 1.6921e-08 - mean_squared_error: 1.6921e-08 - val_loss: 4.9477e-06 - val_mean_squared_error: 4.9477e-06\n",
            "Epoch 95/100\n",
            "1/1 [==============================] - 0s 42ms/step - loss: 1.6599e-08 - mean_squared_error: 1.6599e-08 - val_loss: 4.9384e-06 - val_mean_squared_error: 4.9384e-06\n",
            "Epoch 96/100\n",
            "1/1 [==============================] - 0s 36ms/step - loss: 1.6348e-08 - mean_squared_error: 1.6348e-08 - val_loss: 4.9315e-06 - val_mean_squared_error: 4.9315e-06\n",
            "Epoch 97/100\n",
            "1/1 [==============================] - 0s 39ms/step - loss: 1.6144e-08 - mean_squared_error: 1.6144e-08 - val_loss: 4.9365e-06 - val_mean_squared_error: 4.9365e-06\n",
            "Epoch 98/100\n",
            "1/1 [==============================] - 0s 35ms/step - loss: 1.5935e-08 - mean_squared_error: 1.5935e-08 - val_loss: 4.9451e-06 - val_mean_squared_error: 4.9451e-06\n",
            "Epoch 99/100\n",
            "1/1 [==============================] - 0s 47ms/step - loss: 1.5727e-08 - mean_squared_error: 1.5727e-08 - val_loss: 4.9436e-06 - val_mean_squared_error: 4.9436e-06\n",
            "Epoch 100/100\n",
            "1/1 [==============================] - 0s 39ms/step - loss: 1.5482e-08 - mean_squared_error: 1.5482e-08 - val_loss: 4.9342e-06 - val_mean_squared_error: 4.9342e-06\n"
          ],
          "name": "stdout"
        }
      ]
    },
    {
      "cell_type": "code",
      "metadata": {
        "id": "DFb83Rx0vMlA",
        "colab_type": "code",
        "colab": {
          "base_uri": "https://localhost:8080/",
          "height": 295
        },
        "outputId": "f386fd67-3de0-4347-e915-4dcfc053b5e9"
      },
      "source": [
        "import matplotlib.pyplot as plt\n",
        "%matplotlib inline                \n",
        "\n",
        "# Plot training & validation loss values\n",
        "plt.plot(hist.history['loss'])\n",
        "plt.plot(hist.history['val_loss'])\n",
        "plt.title('Model loss: mean squared error')\n",
        "plt.ylabel('Loss')\n",
        "plt.xlabel('Epoch')\n",
        "plt.legend(['Train', 'Validate'], loc='lower right')\n",
        "plt.show()"
      ],
      "execution_count": 103,
      "outputs": [
        {
          "output_type": "display_data",
          "data": {
            "image/png": "[encoded data removed]",
            "text/plain": [
              "<Figure size 432x288 with 1 Axes>"
            ]
          },
          "metadata": {
            "tags": []
          }
        }
      ]
    },
    {
      "cell_type": "code",
      "metadata": {
        "id": "fCChGEcQwOvG",
        "colab_type": "code",
        "colab": {
          "base_uri": "https://localhost:8080/",
          "height": 67
        },
        "outputId": "7f614a26-2cf4-4ae5-f327-ff19482102ef"
      },
      "source": [
        "from tensorflow.keras.models import load_model\n",
        "\n",
        "# Evaluate the model from the last epoch\n",
        "score = my_rnn.evaluate( x_test, y_test, verbose=0 )\n",
        "print( \"Test results (model from the last epoch):\", [ (my_rnn.metrics_names[i], score[i]) for i in range(len(score)) ] )\n",
        "\n",
        "# Load and evaluate the model from the best epoch\n",
        "my_rnn_best = load_model('ex10_04_RNN_best.hdf5', compile=True )\n",
        "score = my_rnn_best.evaluate( x_test, y_test, verbose=0 )\n",
        "print( \"Test results (model from the best epoch):\", [ (my_rnn_best.metrics_names[i], score[i]) for i in range(len(score)) ] )"
      ],
      "execution_count": 104,
      "outputs": [
        {
          "output_type": "stream",
          "text": [
            "Test results (model from the last epoch): [('loss', 0.0030376676004379988), ('mean_squared_error', 0.0030376676004379988)]\n",
            "WARNING:tensorflow:Error in loading the saved optimizer state. As a result, your model is starting with a freshly initialized optimizer.\n",
            "Test results (model from the best epoch): [('loss', 0.002820130903273821), ('mean_squared_error', 0.002820130903273821)]\n"
          ],
          "name": "stdout"
        }
      ]
    },
    {
      "cell_type": "code",
      "metadata": {
        "id": "YBjr4wOSwaD5",
        "colab_type": "code",
        "colab": {
          "base_uri": "https://localhost:8080/",
          "height": 353
        },
        "outputId": "a031a8cd-65d4-4b3f-9b92-7c8ab48eccf1"
      },
      "source": [
        "y_test_predict = my_rnn.predict( x_test )            # last epoch\n",
        "y2_test_predict = my_rnn_best.predict( x_test )  # best epoch\n",
        "\n",
        "# Denormalize the value\n",
        "x_inv = x_minmax_norm.inverse_transform( x_test.reshape( (x_test.shape[0], x_test.shape[1]) )  )\n",
        "y_inv = y_minmax_norm.inverse_transform( y_test_predict )\n",
        "y2_inv = y_minmax_norm.inverse_transform( y2_test_predict )\n",
        "\n",
        "# Round all float values to their closest integers\n",
        "x_inv = np.around( x_inv )\n",
        "y_inv = np.around( y_inv )\n",
        "y2_inv = np.around( y2_inv )\n",
        "\n",
        "for i in range( x_inv.shape[0] ):\n",
        "    print( \"x_test[{}] = {}\".format( i, x_inv[i].reshape(1,x_inv[i].shape[0]) ) )\n",
        "    print( \"y_test_last_epoch[{}] = {}\".format( i, y_inv[i] ) )\n",
        "    print( \"y_test_best_epoch[{}] = {}\\n\".format( i, y2_inv[i] ) )"
      ],
      "execution_count": 105,
      "outputs": [
        {
          "output_type": "stream",
          "text": [
            "x_test[0] = [[ 2.  3.  5.  8. 13. 21. 34.]]\n",
            "y_test_last_epoch[0] = [  82.  234.  365.  239. 1007.]\n",
            "y_test_best_epoch[0] = [ -562.   418.  2079.  1511. 10940.]\n",
            "\n",
            "x_test[1] = [[ 46368.  75025. 121393. 196418. 317811. 514229. 832040.]]\n",
            "y_test_last_epoch[1] = [1277977. 2007158. 3213012. 5188518. 8621649.]\n",
            "y_test_best_epoch[1] = [1281320. 2015993. 3227175. 5183076. 8672776.]\n",
            "\n",
            "x_test[2] = [[ 5.  8. 13. 21. 34. 55. 89.]]\n",
            "y_test_last_epoch[2] = [ 171.  377.  597.  614. 1606.]\n",
            "y_test_best_epoch[2] = [ -474.   560.  2309.  1884. 11534.]\n",
            "\n",
            "x_test[3] = [[ 55.  89. 144. 233. 377. 610. 987.]]\n",
            "y_test_last_epoch[3] = [ 1616.  2704.  4370.  6752. 11513.]\n",
            "y_test_best_epoch[3] = [  956.  2863.  6032.  8007. 21336.]\n",
            "\n",
            "x_test[4] = [[ 1.  2.  3.  5.  8. 13. 21.]]\n",
            "y_test_last_epoch[4] = [ 62. 201. 315. 144. 833.]\n",
            "y_test_best_epoch[4] = [ -582.   386.  2031.  1417. 10769.]\n",
            "\n"
          ],
          "name": "stdout"
        }
      ]
    }
  ]
}