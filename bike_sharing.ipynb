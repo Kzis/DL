{
 "cells": [
  {
   "cell_type": "code",
   "execution_count": 1,
   "metadata": {},
   "outputs": [],
   "source": [
    "import warnings\n",
    "warnings.filterwarnings('ignore')"
   ]
  },
  {
   "cell_type": "code",
   "execution_count": 2,
   "metadata": {},
   "outputs": [
    {
     "name": "stderr",
     "output_type": "stream",
     "text": [
      "Using TensorFlow backend.\n"
     ]
    }
   ],
   "source": [
    "%matplotlib inline\n",
    "%load_ext autoreload\n",
    "%autoreload 2\n",
    "%config InlineBackend.figure_format = 'retina'\n",
    "\n",
    "import numpy as np\n",
    "import pandas as pd\n",
    "import matplotlib.pyplot as plt\n",
    "from sklearn.preprocessing import StandardScaler\n",
    "from keras.models import Sequential\n",
    "from keras.layers import Dense\n",
    "from keras.wrappers.scikit_learn import KerasRegressor\n",
    "from sklearn.model_selection import cross_val_score\n",
    "from sklearn.model_selection import KFold"
   ]
  },
  {
   "cell_type": "code",
   "execution_count": 3,
   "metadata": {},
   "outputs": [],
   "source": [
    "data_path = 'Bike-Sharing-Dataset/hour.csv'\n",
    "\n",
    "rides = pd.read_csv(data_path)"
   ]
  },
  {
   "cell_type": "code",
   "execution_count": 4,
   "metadata": {},
   "outputs": [
    {
     "data": {
      "text/html": [
       "<div>\n",
       "<style scoped>\n",
       "    .dataframe tbody tr th:only-of-type {\n",
       "        vertical-align: middle;\n",
       "    }\n",
       "\n",
       "    .dataframe tbody tr th {\n",
       "        vertical-align: top;\n",
       "    }\n",
       "\n",
       "    .dataframe thead th {\n",
       "        text-align: right;\n",
       "    }\n",
       "</style>\n",
       "<table border=\"1\" class=\"dataframe\">\n",
       "  <thead>\n",
       "    <tr style=\"text-align: right;\">\n",
       "      <th></th>\n",
       "      <th>instant</th>\n",
       "      <th>dteday</th>\n",
       "      <th>season</th>\n",
       "      <th>yr</th>\n",
       "      <th>mnth</th>\n",
       "      <th>hr</th>\n",
       "      <th>holiday</th>\n",
       "      <th>weekday</th>\n",
       "      <th>workingday</th>\n",
       "      <th>weathersit</th>\n",
       "      <th>temp</th>\n",
       "      <th>atemp</th>\n",
       "      <th>hum</th>\n",
       "      <th>windspeed</th>\n",
       "      <th>casual</th>\n",
       "      <th>registered</th>\n",
       "      <th>cnt</th>\n",
       "    </tr>\n",
       "  </thead>\n",
       "  <tbody>\n",
       "    <tr>\n",
       "      <th>0</th>\n",
       "      <td>1</td>\n",
       "      <td>2011-01-01</td>\n",
       "      <td>1</td>\n",
       "      <td>0</td>\n",
       "      <td>1</td>\n",
       "      <td>0</td>\n",
       "      <td>0</td>\n",
       "      <td>6</td>\n",
       "      <td>0</td>\n",
       "      <td>1</td>\n",
       "      <td>0.24</td>\n",
       "      <td>0.2879</td>\n",
       "      <td>0.81</td>\n",
       "      <td>0.0</td>\n",
       "      <td>3</td>\n",
       "      <td>13</td>\n",
       "      <td>16</td>\n",
       "    </tr>\n",
       "    <tr>\n",
       "      <th>1</th>\n",
       "      <td>2</td>\n",
       "      <td>2011-01-01</td>\n",
       "      <td>1</td>\n",
       "      <td>0</td>\n",
       "      <td>1</td>\n",
       "      <td>1</td>\n",
       "      <td>0</td>\n",
       "      <td>6</td>\n",
       "      <td>0</td>\n",
       "      <td>1</td>\n",
       "      <td>0.22</td>\n",
       "      <td>0.2727</td>\n",
       "      <td>0.80</td>\n",
       "      <td>0.0</td>\n",
       "      <td>8</td>\n",
       "      <td>32</td>\n",
       "      <td>40</td>\n",
       "    </tr>\n",
       "    <tr>\n",
       "      <th>2</th>\n",
       "      <td>3</td>\n",
       "      <td>2011-01-01</td>\n",
       "      <td>1</td>\n",
       "      <td>0</td>\n",
       "      <td>1</td>\n",
       "      <td>2</td>\n",
       "      <td>0</td>\n",
       "      <td>6</td>\n",
       "      <td>0</td>\n",
       "      <td>1</td>\n",
       "      <td>0.22</td>\n",
       "      <td>0.2727</td>\n",
       "      <td>0.80</td>\n",
       "      <td>0.0</td>\n",
       "      <td>5</td>\n",
       "      <td>27</td>\n",
       "      <td>32</td>\n",
       "    </tr>\n",
       "    <tr>\n",
       "      <th>3</th>\n",
       "      <td>4</td>\n",
       "      <td>2011-01-01</td>\n",
       "      <td>1</td>\n",
       "      <td>0</td>\n",
       "      <td>1</td>\n",
       "      <td>3</td>\n",
       "      <td>0</td>\n",
       "      <td>6</td>\n",
       "      <td>0</td>\n",
       "      <td>1</td>\n",
       "      <td>0.24</td>\n",
       "      <td>0.2879</td>\n",
       "      <td>0.75</td>\n",
       "      <td>0.0</td>\n",
       "      <td>3</td>\n",
       "      <td>10</td>\n",
       "      <td>13</td>\n",
       "    </tr>\n",
       "    <tr>\n",
       "      <th>4</th>\n",
       "      <td>5</td>\n",
       "      <td>2011-01-01</td>\n",
       "      <td>1</td>\n",
       "      <td>0</td>\n",
       "      <td>1</td>\n",
       "      <td>4</td>\n",
       "      <td>0</td>\n",
       "      <td>6</td>\n",
       "      <td>0</td>\n",
       "      <td>1</td>\n",
       "      <td>0.24</td>\n",
       "      <td>0.2879</td>\n",
       "      <td>0.75</td>\n",
       "      <td>0.0</td>\n",
       "      <td>0</td>\n",
       "      <td>1</td>\n",
       "      <td>1</td>\n",
       "    </tr>\n",
       "  </tbody>\n",
       "</table>\n",
       "</div>"
      ],
      "text/plain": [
       "   instant      dteday  season  yr  mnth  hr  holiday  weekday  workingday  \\\n",
       "0        1  2011-01-01       1   0     1   0        0        6           0   \n",
       "1        2  2011-01-01       1   0     1   1        0        6           0   \n",
       "2        3  2011-01-01       1   0     1   2        0        6           0   \n",
       "3        4  2011-01-01       1   0     1   3        0        6           0   \n",
       "4        5  2011-01-01       1   0     1   4        0        6           0   \n",
       "\n",
       "   weathersit  temp   atemp   hum  windspeed  casual  registered  cnt  \n",
       "0           1  0.24  0.2879  0.81        0.0       3          13   16  \n",
       "1           1  0.22  0.2727  0.80        0.0       8          32   40  \n",
       "2           1  0.22  0.2727  0.80        0.0       5          27   32  \n",
       "3           1  0.24  0.2879  0.75        0.0       3          10   13  \n",
       "4           1  0.24  0.2879  0.75        0.0       0           1    1  "
      ]
     },
     "execution_count": 4,
     "metadata": {},
     "output_type": "execute_result"
    }
   ],
   "source": [
    "rides.head()"
   ]
  },
  {
   "cell_type": "code",
   "execution_count": 5,
   "metadata": {},
   "outputs": [
    {
     "data": {
      "text/plain": [
       "<matplotlib.axes._subplots.AxesSubplot at 0x13a25b650>"
      ]
     },
     "execution_count": 5,
     "metadata": {},
     "output_type": "execute_result"
    },
    {
     "data": {
      "image/png": "[encoded data removed]",
      "text/plain": [
       "<Figure size 432x288 with 1 Axes>"
      ]
     },
     "metadata": {
      "image/png": {
       "height": 261,
       "width": 378
      },
      "needs_background": "light"
     },
     "output_type": "display_data"
    }
   ],
   "source": [
    "rides[:24*10].plot(x='dteday', y='cnt')"
   ]
  },
  {
   "cell_type": "code",
   "execution_count": 6,
   "metadata": {},
   "outputs": [],
   "source": [
    "dummy_fields = ['season', 'weathersit', 'mnth', 'hr', 'weekday']\n",
    "data = pd.get_dummies(rides, columns=dummy_fields, drop_first=True)"
   ]
  },
  {
   "cell_type": "code",
   "execution_count": null,
   "metadata": {},
   "outputs": [],
   "source": []
  },
  {
   "cell_type": "code",
   "execution_count": 7,
   "metadata": {},
   "outputs": [],
   "source": [
    "fields_to_drop = ['instant', 'dteday', 'atemp', 'workingday']\n",
    "data = data.drop(fields_to_drop, axis=1)"
   ]
  },
  {
   "cell_type": "code",
   "execution_count": 8,
   "metadata": {
    "scrolled": false
   },
   "outputs": [
    {
     "data": {
      "text/html": [
       "<div>\n",
       "<style scoped>\n",
       "    .dataframe tbody tr th:only-of-type {\n",
       "        vertical-align: middle;\n",
       "    }\n",
       "\n",
       "    .dataframe tbody tr th {\n",
       "        vertical-align: top;\n",
       "    }\n",
       "\n",
       "    .dataframe thead th {\n",
       "        text-align: right;\n",
       "    }\n",
       "</style>\n",
       "<table border=\"1\" class=\"dataframe\">\n",
       "  <thead>\n",
       "    <tr style=\"text-align: right;\">\n",
       "      <th></th>\n",
       "      <th>yr</th>\n",
       "      <th>holiday</th>\n",
       "      <th>temp</th>\n",
       "      <th>hum</th>\n",
       "      <th>windspeed</th>\n",
       "      <th>casual</th>\n",
       "      <th>registered</th>\n",
       "      <th>cnt</th>\n",
       "      <th>season_2</th>\n",
       "      <th>season_3</th>\n",
       "      <th>...</th>\n",
       "      <th>hr_20</th>\n",
       "      <th>hr_21</th>\n",
       "      <th>hr_22</th>\n",
       "      <th>hr_23</th>\n",
       "      <th>weekday_1</th>\n",
       "      <th>weekday_2</th>\n",
       "      <th>weekday_3</th>\n",
       "      <th>weekday_4</th>\n",
       "      <th>weekday_5</th>\n",
       "      <th>weekday_6</th>\n",
       "    </tr>\n",
       "  </thead>\n",
       "  <tbody>\n",
       "    <tr>\n",
       "      <th>0</th>\n",
       "      <td>0</td>\n",
       "      <td>0</td>\n",
       "      <td>0.24</td>\n",
       "      <td>0.81</td>\n",
       "      <td>0.0</td>\n",
       "      <td>3</td>\n",
       "      <td>13</td>\n",
       "      <td>16</td>\n",
       "      <td>0</td>\n",
       "      <td>0</td>\n",
       "      <td>...</td>\n",
       "      <td>0</td>\n",
       "      <td>0</td>\n",
       "      <td>0</td>\n",
       "      <td>0</td>\n",
       "      <td>0</td>\n",
       "      <td>0</td>\n",
       "      <td>0</td>\n",
       "      <td>0</td>\n",
       "      <td>0</td>\n",
       "      <td>1</td>\n",
       "    </tr>\n",
       "    <tr>\n",
       "      <th>1</th>\n",
       "      <td>0</td>\n",
       "      <td>0</td>\n",
       "      <td>0.22</td>\n",
       "      <td>0.80</td>\n",
       "      <td>0.0</td>\n",
       "      <td>8</td>\n",
       "      <td>32</td>\n",
       "      <td>40</td>\n",
       "      <td>0</td>\n",
       "      <td>0</td>\n",
       "      <td>...</td>\n",
       "      <td>0</td>\n",
       "      <td>0</td>\n",
       "      <td>0</td>\n",
       "      <td>0</td>\n",
       "      <td>0</td>\n",
       "      <td>0</td>\n",
       "      <td>0</td>\n",
       "      <td>0</td>\n",
       "      <td>0</td>\n",
       "      <td>1</td>\n",
       "    </tr>\n",
       "    <tr>\n",
       "      <th>2</th>\n",
       "      <td>0</td>\n",
       "      <td>0</td>\n",
       "      <td>0.22</td>\n",
       "      <td>0.80</td>\n",
       "      <td>0.0</td>\n",
       "      <td>5</td>\n",
       "      <td>27</td>\n",
       "      <td>32</td>\n",
       "      <td>0</td>\n",
       "      <td>0</td>\n",
       "      <td>...</td>\n",
       "      <td>0</td>\n",
       "      <td>0</td>\n",
       "      <td>0</td>\n",
       "      <td>0</td>\n",
       "      <td>0</td>\n",
       "      <td>0</td>\n",
       "      <td>0</td>\n",
       "      <td>0</td>\n",
       "      <td>0</td>\n",
       "      <td>1</td>\n",
       "    </tr>\n",
       "    <tr>\n",
       "      <th>3</th>\n",
       "      <td>0</td>\n",
       "      <td>0</td>\n",
       "      <td>0.24</td>\n",
       "      <td>0.75</td>\n",
       "      <td>0.0</td>\n",
       "      <td>3</td>\n",
       "      <td>10</td>\n",
       "      <td>13</td>\n",
       "      <td>0</td>\n",
       "      <td>0</td>\n",
       "      <td>...</td>\n",
       "      <td>0</td>\n",
       "      <td>0</td>\n",
       "      <td>0</td>\n",
       "      <td>0</td>\n",
       "      <td>0</td>\n",
       "      <td>0</td>\n",
       "      <td>0</td>\n",
       "      <td>0</td>\n",
       "      <td>0</td>\n",
       "      <td>1</td>\n",
       "    </tr>\n",
       "    <tr>\n",
       "      <th>4</th>\n",
       "      <td>0</td>\n",
       "      <td>0</td>\n",
       "      <td>0.24</td>\n",
       "      <td>0.75</td>\n",
       "      <td>0.0</td>\n",
       "      <td>0</td>\n",
       "      <td>1</td>\n",
       "      <td>1</td>\n",
       "      <td>0</td>\n",
       "      <td>0</td>\n",
       "      <td>...</td>\n",
       "      <td>0</td>\n",
       "      <td>0</td>\n",
       "      <td>0</td>\n",
       "      <td>0</td>\n",
       "      <td>0</td>\n",
       "      <td>0</td>\n",
       "      <td>0</td>\n",
       "      <td>0</td>\n",
       "      <td>0</td>\n",
       "      <td>1</td>\n",
       "    </tr>\n",
       "  </tbody>\n",
       "</table>\n",
       "<p>5 rows × 54 columns</p>\n",
       "</div>"
      ],
      "text/plain": [
       "   yr  holiday  temp   hum  windspeed  casual  registered  cnt  season_2  \\\n",
       "0   0        0  0.24  0.81        0.0       3          13   16         0   \n",
       "1   0        0  0.22  0.80        0.0       8          32   40         0   \n",
       "2   0        0  0.22  0.80        0.0       5          27   32         0   \n",
       "3   0        0  0.24  0.75        0.0       3          10   13         0   \n",
       "4   0        0  0.24  0.75        0.0       0           1    1         0   \n",
       "\n",
       "   season_3  ...  hr_20  hr_21  hr_22  hr_23  weekday_1  weekday_2  weekday_3  \\\n",
       "0         0  ...      0      0      0      0          0          0          0   \n",
       "1         0  ...      0      0      0      0          0          0          0   \n",
       "2         0  ...      0      0      0      0          0          0          0   \n",
       "3         0  ...      0      0      0      0          0          0          0   \n",
       "4         0  ...      0      0      0      0          0          0          0   \n",
       "\n",
       "   weekday_4  weekday_5  weekday_6  \n",
       "0          0          0          1  \n",
       "1          0          0          1  \n",
       "2          0          0          1  \n",
       "3          0          0          1  \n",
       "4          0          0          1  \n",
       "\n",
       "[5 rows x 54 columns]"
      ]
     },
     "execution_count": 8,
     "metadata": {},
     "output_type": "execute_result"
    }
   ],
   "source": [
    "data.head()"
   ]
  },
  {
   "cell_type": "code",
   "execution_count": 9,
   "metadata": {},
   "outputs": [],
   "source": [
    "test_data = data[-21*24:]\n",
    "train_data = data[:-21*24]\n",
    "\n",
    "quant_features = ['casual', 'registered', 'cnt', 'temp', 'hum', 'windspeed']\n",
    "features = train_data[quant_features]\n",
    "sc = StandardScaler()\n",
    "features = sc.fit_transform(features)\n",
    "train_data[quant_features] = features\n",
    "\n",
    "features = test_data[quant_features]\n",
    "features = sc.transform(features)\n",
    "test_data[quant_features] = features"
   ]
  },
  {
   "cell_type": "code",
   "execution_count": 10,
   "metadata": {},
   "outputs": [],
   "source": [
    "# Separate the data into features and targets\n",
    "target_fields = ['cnt', 'casual', 'registered']\n",
    "X_train, y_train = train_data.drop(target_fields, axis=1), train_data['cnt']\n",
    "X_test, y_test = test_data.drop(target_fields, axis=1), test_data['cnt']"
   ]
  },
  {
   "cell_type": "code",
   "execution_count": 11,
   "metadata": {
    "scrolled": true
   },
   "outputs": [
    {
     "data": {
      "text/html": [
       "<div>\n",
       "<style scoped>\n",
       "    .dataframe tbody tr th:only-of-type {\n",
       "        vertical-align: middle;\n",
       "    }\n",
       "\n",
       "    .dataframe tbody tr th {\n",
       "        vertical-align: top;\n",
       "    }\n",
       "\n",
       "    .dataframe thead th {\n",
       "        text-align: right;\n",
       "    }\n",
       "</style>\n",
       "<table border=\"1\" class=\"dataframe\">\n",
       "  <thead>\n",
       "    <tr style=\"text-align: right;\">\n",
       "      <th></th>\n",
       "      <th>yr</th>\n",
       "      <th>holiday</th>\n",
       "      <th>temp</th>\n",
       "      <th>hum</th>\n",
       "      <th>windspeed</th>\n",
       "      <th>season_2</th>\n",
       "      <th>season_3</th>\n",
       "      <th>season_4</th>\n",
       "      <th>weathersit_2</th>\n",
       "      <th>weathersit_3</th>\n",
       "      <th>...</th>\n",
       "      <th>hr_20</th>\n",
       "      <th>hr_21</th>\n",
       "      <th>hr_22</th>\n",
       "      <th>hr_23</th>\n",
       "      <th>weekday_1</th>\n",
       "      <th>weekday_2</th>\n",
       "      <th>weekday_3</th>\n",
       "      <th>weekday_4</th>\n",
       "      <th>weekday_5</th>\n",
       "      <th>weekday_6</th>\n",
       "    </tr>\n",
       "  </thead>\n",
       "  <tbody>\n",
       "    <tr>\n",
       "      <th>0</th>\n",
       "      <td>0</td>\n",
       "      <td>0</td>\n",
       "      <td>-1.370568</td>\n",
       "      <td>0.946667</td>\n",
       "      <td>-1.558454</td>\n",
       "      <td>0</td>\n",
       "      <td>0</td>\n",
       "      <td>0</td>\n",
       "      <td>0</td>\n",
       "      <td>0</td>\n",
       "      <td>...</td>\n",
       "      <td>0</td>\n",
       "      <td>0</td>\n",
       "      <td>0</td>\n",
       "      <td>0</td>\n",
       "      <td>0</td>\n",
       "      <td>0</td>\n",
       "      <td>0</td>\n",
       "      <td>0</td>\n",
       "      <td>0</td>\n",
       "      <td>1</td>\n",
       "    </tr>\n",
       "    <tr>\n",
       "      <th>1</th>\n",
       "      <td>0</td>\n",
       "      <td>0</td>\n",
       "      <td>-1.474810</td>\n",
       "      <td>0.895022</td>\n",
       "      <td>-1.558454</td>\n",
       "      <td>0</td>\n",
       "      <td>0</td>\n",
       "      <td>0</td>\n",
       "      <td>0</td>\n",
       "      <td>0</td>\n",
       "      <td>...</td>\n",
       "      <td>0</td>\n",
       "      <td>0</td>\n",
       "      <td>0</td>\n",
       "      <td>0</td>\n",
       "      <td>0</td>\n",
       "      <td>0</td>\n",
       "      <td>0</td>\n",
       "      <td>0</td>\n",
       "      <td>0</td>\n",
       "      <td>1</td>\n",
       "    </tr>\n",
       "    <tr>\n",
       "      <th>2</th>\n",
       "      <td>0</td>\n",
       "      <td>0</td>\n",
       "      <td>-1.474810</td>\n",
       "      <td>0.895022</td>\n",
       "      <td>-1.558454</td>\n",
       "      <td>0</td>\n",
       "      <td>0</td>\n",
       "      <td>0</td>\n",
       "      <td>0</td>\n",
       "      <td>0</td>\n",
       "      <td>...</td>\n",
       "      <td>0</td>\n",
       "      <td>0</td>\n",
       "      <td>0</td>\n",
       "      <td>0</td>\n",
       "      <td>0</td>\n",
       "      <td>0</td>\n",
       "      <td>0</td>\n",
       "      <td>0</td>\n",
       "      <td>0</td>\n",
       "      <td>1</td>\n",
       "    </tr>\n",
       "    <tr>\n",
       "      <th>3</th>\n",
       "      <td>0</td>\n",
       "      <td>0</td>\n",
       "      <td>-1.370568</td>\n",
       "      <td>0.636799</td>\n",
       "      <td>-1.558454</td>\n",
       "      <td>0</td>\n",
       "      <td>0</td>\n",
       "      <td>0</td>\n",
       "      <td>0</td>\n",
       "      <td>0</td>\n",
       "      <td>...</td>\n",
       "      <td>0</td>\n",
       "      <td>0</td>\n",
       "      <td>0</td>\n",
       "      <td>0</td>\n",
       "      <td>0</td>\n",
       "      <td>0</td>\n",
       "      <td>0</td>\n",
       "      <td>0</td>\n",
       "      <td>0</td>\n",
       "      <td>1</td>\n",
       "    </tr>\n",
       "    <tr>\n",
       "      <th>4</th>\n",
       "      <td>0</td>\n",
       "      <td>0</td>\n",
       "      <td>-1.370568</td>\n",
       "      <td>0.636799</td>\n",
       "      <td>-1.558454</td>\n",
       "      <td>0</td>\n",
       "      <td>0</td>\n",
       "      <td>0</td>\n",
       "      <td>0</td>\n",
       "      <td>0</td>\n",
       "      <td>...</td>\n",
       "      <td>0</td>\n",
       "      <td>0</td>\n",
       "      <td>0</td>\n",
       "      <td>0</td>\n",
       "      <td>0</td>\n",
       "      <td>0</td>\n",
       "      <td>0</td>\n",
       "      <td>0</td>\n",
       "      <td>0</td>\n",
       "      <td>1</td>\n",
       "    </tr>\n",
       "  </tbody>\n",
       "</table>\n",
       "<p>5 rows × 51 columns</p>\n",
       "</div>"
      ],
      "text/plain": [
       "   yr  holiday      temp       hum  windspeed  season_2  season_3  season_4  \\\n",
       "0   0        0 -1.370568  0.946667  -1.558454         0         0         0   \n",
       "1   0        0 -1.474810  0.895022  -1.558454         0         0         0   \n",
       "2   0        0 -1.474810  0.895022  -1.558454         0         0         0   \n",
       "3   0        0 -1.370568  0.636799  -1.558454         0         0         0   \n",
       "4   0        0 -1.370568  0.636799  -1.558454         0         0         0   \n",
       "\n",
       "   weathersit_2  weathersit_3  ...  hr_20  hr_21  hr_22  hr_23  weekday_1  \\\n",
       "0             0             0  ...      0      0      0      0          0   \n",
       "1             0             0  ...      0      0      0      0          0   \n",
       "2             0             0  ...      0      0      0      0          0   \n",
       "3             0             0  ...      0      0      0      0          0   \n",
       "4             0             0  ...      0      0      0      0          0   \n",
       "\n",
       "   weekday_2  weekday_3  weekday_4  weekday_5  weekday_6  \n",
       "0          0          0          0          0          1  \n",
       "1          0          0          0          0          1  \n",
       "2          0          0          0          0          1  \n",
       "3          0          0          0          0          1  \n",
       "4          0          0          0          0          1  \n",
       "\n",
       "[5 rows x 51 columns]"
      ]
     },
     "execution_count": 11,
     "metadata": {},
     "output_type": "execute_result"
    }
   ],
   "source": [
    "X_train.head()"
   ]
  },
  {
   "cell_type": "code",
   "execution_count": 12,
   "metadata": {},
   "outputs": [],
   "source": [
    "def baseline_model(optimizer='adam'):\n",
    "    clf = Sequential()\n",
    "    clf.add(Dense(units=32, kernel_initializer='uniform', activation='relu',\n",
    "                  input_dim=51))\n",
    "    clf.add(Dense(units=8, kernel_initializer='uniform', activation='relu'))\n",
    "    clf.add(Dense(units=1, kernel_initializer='uniform'))\n",
    "    clf.compile(optimizer=optimizer, loss='mean_squared_error')\n",
    "\n",
    "    return clf"
   ]
  },
  {
   "cell_type": "code",
   "execution_count": 13,
   "metadata": {},
   "outputs": [],
   "source": [
    "estimator = KerasRegressor(build_fn=baseline_model, epochs=100, batch_size=5)"
   ]
  },
  {
   "cell_type": "code",
   "execution_count": 26,
   "metadata": {},
   "outputs": [],
   "source": [
    "results = cross_val_score(estimator, X_train, y_train, cv=10, n_jobs=-1)"
   ]
  },
  {
   "cell_type": "code",
   "execution_count": 27,
   "metadata": {},
   "outputs": [
    {
     "name": "stdout",
     "output_type": "stream",
     "text": [
      "Baseline: -0.10154758057978666 0.05114202816733275\n"
     ]
    }
   ],
   "source": [
    "print(f'Baseline: {results.mean()} {results.std()}')"
   ]
  },
  {
   "cell_type": "code",
   "execution_count": 28,
   "metadata": {},
   "outputs": [
    {
     "data": {
      "text/plain": [
       "array([-0.03524839, -0.06228163, -0.06390676, -0.07783316, -0.06382465,\n",
       "       -0.07154715, -0.16707929, -0.12453458, -0.18903843, -0.16018175])"
      ]
     },
     "execution_count": 28,
     "metadata": {},
     "output_type": "execute_result"
    }
   ],
   "source": [
    "results"
   ]
  },
  {
   "cell_type": "code",
   "execution_count": null,
   "metadata": {},
   "outputs": [],
   "source": []
  },
  {
   "cell_type": "code",
   "execution_count": 15,
   "metadata": {},
   "outputs": [
    {
     "name": "stderr",
     "output_type": "stream",
     "text": [
      "WARNING: Logging before flag parsing goes to stderr.\n",
      "W0212 16:31:21.998059 4557282752 deprecation_wrapper.py:119] From /Users/pramote/py374-venv/lib/python3.7/site-packages/keras/backend/tensorflow_backend.py:74: The name tf.get_default_graph is deprecated. Please use tf.compat.v1.get_default_graph instead.\n",
      "\n",
      "W0212 16:31:22.011445 4557282752 deprecation_wrapper.py:119] From /Users/pramote/py374-venv/lib/python3.7/site-packages/keras/backend/tensorflow_backend.py:517: The name tf.placeholder is deprecated. Please use tf.compat.v1.placeholder instead.\n",
      "\n",
      "W0212 16:31:22.013593 4557282752 deprecation_wrapper.py:119] From /Users/pramote/py374-venv/lib/python3.7/site-packages/keras/backend/tensorflow_backend.py:4138: The name tf.random_uniform is deprecated. Please use tf.random.uniform instead.\n",
      "\n",
      "W0212 16:31:22.045848 4557282752 deprecation_wrapper.py:119] From /Users/pramote/py374-venv/lib/python3.7/site-packages/keras/optimizers.py:790: The name tf.train.Optimizer is deprecated. Please use tf.compat.v1.train.Optimizer instead.\n",
      "\n"
     ]
    }
   ],
   "source": [
    "estimator2 = baseline_model()"
   ]
  },
  {
   "cell_type": "code",
   "execution_count": 16,
   "metadata": {},
   "outputs": [
    {
     "name": "stderr",
     "output_type": "stream",
     "text": [
      "W0212 16:31:30.132774 4557282752 deprecation_wrapper.py:119] From /Users/pramote/py374-venv/lib/python3.7/site-packages/keras/backend/tensorflow_backend.py:986: The name tf.assign_add is deprecated. Please use tf.compat.v1.assign_add instead.\n",
      "\n",
      "W0212 16:31:30.276298 4557282752 deprecation_wrapper.py:119] From /Users/pramote/py374-venv/lib/python3.7/site-packages/keras/backend/tensorflow_backend.py:973: The name tf.assign is deprecated. Please use tf.compat.v1.assign instead.\n",
      "\n"
     ]
    },
    {
     "name": "stdout",
     "output_type": "stream",
     "text": [
      "Epoch 1/100\n",
      "16875/16875 [==============================] - 1s 64us/step - loss: 0.3438\n",
      "Epoch 2/100\n",
      "16875/16875 [==============================] - 1s 53us/step - loss: 0.1421\n",
      "Epoch 3/100\n",
      "16875/16875 [==============================] - 1s 53us/step - loss: 0.0831\n",
      "Epoch 4/100\n",
      "16875/16875 [==============================] - 1s 53us/step - loss: 0.0688\n",
      "Epoch 5/100\n",
      "16875/16875 [==============================] - 1s 52us/step - loss: 0.0624\n",
      "Epoch 6/100\n",
      "16875/16875 [==============================] - 1s 54us/step - loss: 0.0587\n",
      "Epoch 7/100\n",
      "16875/16875 [==============================] - 1s 53us/step - loss: 0.0573\n",
      "Epoch 8/100\n",
      "16875/16875 [==============================] - 1s 53us/step - loss: 0.0553\n",
      "Epoch 9/100\n",
      "16875/16875 [==============================] - 1s 53us/step - loss: 0.0539\n",
      "Epoch 10/100\n",
      "16875/16875 [==============================] - 1s 52us/step - loss: 0.0534\n",
      "Epoch 11/100\n",
      "16875/16875 [==============================] - 1s 55us/step - loss: 0.0530\n",
      "Epoch 12/100\n",
      "16875/16875 [==============================] - 1s 53us/step - loss: 0.0521\n",
      "Epoch 13/100\n",
      "16875/16875 [==============================] - 1s 53us/step - loss: 0.0514\n",
      "Epoch 14/100\n",
      "16875/16875 [==============================] - 1s 52us/step - loss: 0.0505\n",
      "Epoch 15/100\n",
      "16875/16875 [==============================] - 1s 53us/step - loss: 0.0505\n",
      "Epoch 16/100\n",
      "16875/16875 [==============================] - 1s 53us/step - loss: 0.0491\n",
      "Epoch 17/100\n",
      "16875/16875 [==============================] - 1s 53us/step - loss: 0.0495\n",
      "Epoch 18/100\n",
      "16875/16875 [==============================] - 1s 52us/step - loss: 0.0485\n",
      "Epoch 19/100\n",
      "16875/16875 [==============================] - 1s 52us/step - loss: 0.0486\n",
      "Epoch 20/100\n",
      "16875/16875 [==============================] - 1s 53us/step - loss: 0.0484\n",
      "Epoch 21/100\n",
      "16875/16875 [==============================] - 1s 52us/step - loss: 0.0480\n",
      "Epoch 22/100\n",
      "16875/16875 [==============================] - 1s 55us/step - loss: 0.0475\n",
      "Epoch 23/100\n",
      "16875/16875 [==============================] - 1s 57us/step - loss: 0.0477\n",
      "Epoch 24/100\n",
      "16875/16875 [==============================] - 1s 52us/step - loss: 0.0468\n",
      "Epoch 25/100\n",
      "16875/16875 [==============================] - 1s 56us/step - loss: 0.0462\n",
      "Epoch 26/100\n",
      "16875/16875 [==============================] - 1s 54us/step - loss: 0.0464\n",
      "Epoch 27/100\n",
      "16875/16875 [==============================] - 1s 52us/step - loss: 0.0456\n",
      "Epoch 28/100\n",
      "16875/16875 [==============================] - 1s 54us/step - loss: 0.0457\n",
      "Epoch 29/100\n",
      "16875/16875 [==============================] - 1s 52us/step - loss: 0.0452\n",
      "Epoch 30/100\n",
      "16875/16875 [==============================] - 1s 52us/step - loss: 0.0449\n",
      "Epoch 31/100\n",
      "16875/16875 [==============================] - 1s 52us/step - loss: 0.0450\n",
      "Epoch 32/100\n",
      "16875/16875 [==============================] - 1s 51us/step - loss: 0.0449\n",
      "Epoch 33/100\n",
      "16875/16875 [==============================] - 1s 52us/step - loss: 0.0446\n",
      "Epoch 34/100\n",
      "16875/16875 [==============================] - 1s 54us/step - loss: 0.0443\n",
      "Epoch 35/100\n",
      "16875/16875 [==============================] - 1s 53us/step - loss: 0.0440\n",
      "Epoch 36/100\n",
      "16875/16875 [==============================] - 1s 53us/step - loss: 0.0438\n",
      "Epoch 37/100\n",
      "16875/16875 [==============================] - 1s 53us/step - loss: 0.0436\n",
      "Epoch 38/100\n",
      "16875/16875 [==============================] - 1s 54us/step - loss: 0.0436\n",
      "Epoch 39/100\n",
      "16875/16875 [==============================] - 1s 52us/step - loss: 0.0437\n",
      "Epoch 40/100\n",
      "16875/16875 [==============================] - 1s 53us/step - loss: 0.0431\n",
      "Epoch 41/100\n",
      "16875/16875 [==============================] - 1s 53us/step - loss: 0.0429\n",
      "Epoch 42/100\n",
      "16875/16875 [==============================] - 1s 53us/step - loss: 0.0428\n",
      "Epoch 43/100\n",
      "16875/16875 [==============================] - 1s 53us/step - loss: 0.0428\n",
      "Epoch 44/100\n",
      "16875/16875 [==============================] - 1s 52us/step - loss: 0.0421\n",
      "Epoch 45/100\n",
      "16875/16875 [==============================] - 1s 54us/step - loss: 0.0428\n",
      "Epoch 46/100\n",
      "16875/16875 [==============================] - 1s 54us/step - loss: 0.0422\n",
      "Epoch 47/100\n",
      "16875/16875 [==============================] - 1s 53us/step - loss: 0.0420\n",
      "Epoch 48/100\n",
      "16875/16875 [==============================] - 1s 54us/step - loss: 0.0421\n",
      "Epoch 49/100\n",
      "16875/16875 [==============================] - 1s 53us/step - loss: 0.0415\n",
      "Epoch 50/100\n",
      "16875/16875 [==============================] - 1s 53us/step - loss: 0.0419\n",
      "Epoch 51/100\n",
      "16875/16875 [==============================] - 1s 53us/step - loss: 0.0417\n",
      "Epoch 52/100\n",
      "16875/16875 [==============================] - 1s 57us/step - loss: 0.0410\n",
      "Epoch 53/100\n",
      "16875/16875 [==============================] - 1s 53us/step - loss: 0.0413\n",
      "Epoch 54/100\n",
      "16875/16875 [==============================] - 1s 53us/step - loss: 0.0409\n",
      "Epoch 55/100\n",
      "16875/16875 [==============================] - 1s 52us/step - loss: 0.0408\n",
      "Epoch 56/100\n",
      "16875/16875 [==============================] - 1s 52us/step - loss: 0.0408\n",
      "Epoch 57/100\n",
      "16875/16875 [==============================] - 1s 54us/step - loss: 0.0408\n",
      "Epoch 58/100\n",
      "16875/16875 [==============================] - 1s 53us/step - loss: 0.0405\n",
      "Epoch 59/100\n",
      "16875/16875 [==============================] - 1s 52us/step - loss: 0.0405\n",
      "Epoch 60/100\n",
      "16875/16875 [==============================] - 1s 53us/step - loss: 0.0401\n",
      "Epoch 61/100\n",
      "16875/16875 [==============================] - 1s 53us/step - loss: 0.0405\n",
      "Epoch 62/100\n",
      "16875/16875 [==============================] - 1s 53us/step - loss: 0.0403\n",
      "Epoch 63/100\n",
      "16875/16875 [==============================] - 1s 53us/step - loss: 0.0401\n",
      "Epoch 64/100\n",
      "16875/16875 [==============================] - 1s 52us/step - loss: 0.0400\n",
      "Epoch 65/100\n",
      "16875/16875 [==============================] - 1s 52us/step - loss: 0.0394\n",
      "Epoch 66/100\n",
      "16875/16875 [==============================] - 1s 52us/step - loss: 0.0399\n",
      "Epoch 67/100\n",
      "16875/16875 [==============================] - 1s 53us/step - loss: 0.0399\n",
      "Epoch 68/100\n",
      "16875/16875 [==============================] - 1s 53us/step - loss: 0.0397\n",
      "Epoch 69/100\n",
      "16875/16875 [==============================] - 1s 52us/step - loss: 0.0395\n",
      "Epoch 70/100\n",
      "16875/16875 [==============================] - 1s 53us/step - loss: 0.0395\n",
      "Epoch 71/100\n",
      "16875/16875 [==============================] - 1s 53us/step - loss: 0.0395\n",
      "Epoch 72/100\n",
      "16875/16875 [==============================] - 1s 53us/step - loss: 0.0398\n",
      "Epoch 73/100\n",
      "16875/16875 [==============================] - 1s 54us/step - loss: 0.0392\n",
      "Epoch 74/100\n",
      "16875/16875 [==============================] - 1s 52us/step - loss: 0.0394\n",
      "Epoch 75/100\n",
      "16875/16875 [==============================] - 1s 53us/step - loss: 0.0391\n",
      "Epoch 76/100\n",
      "16875/16875 [==============================] - 1s 52us/step - loss: 0.0393\n",
      "Epoch 77/100\n",
      "16875/16875 [==============================] - 1s 53us/step - loss: 0.0390\n",
      "Epoch 78/100\n",
      "16875/16875 [==============================] - 1s 53us/step - loss: 0.0387\n",
      "Epoch 79/100\n",
      "16875/16875 [==============================] - 1s 54us/step - loss: 0.0391\n",
      "Epoch 80/100\n",
      "16875/16875 [==============================] - 1s 54us/step - loss: 0.0387\n",
      "Epoch 81/100\n",
      "16875/16875 [==============================] - 1s 53us/step - loss: 0.0389\n",
      "Epoch 82/100\n",
      "16875/16875 [==============================] - 1s 53us/step - loss: 0.0383\n",
      "Epoch 83/100\n",
      "16875/16875 [==============================] - 1s 53us/step - loss: 0.0386\n",
      "Epoch 84/100\n",
      "16875/16875 [==============================] - 1s 52us/step - loss: 0.0384\n",
      "Epoch 85/100\n",
      "16875/16875 [==============================] - 1s 53us/step - loss: 0.0382\n",
      "Epoch 86/100\n",
      "16875/16875 [==============================] - 1s 53us/step - loss: 0.0386\n",
      "Epoch 87/100\n",
      "16875/16875 [==============================] - 1s 53us/step - loss: 0.0381\n",
      "Epoch 88/100\n",
      "16875/16875 [==============================] - 1s 53us/step - loss: 0.0380\n",
      "Epoch 89/100\n",
      "16875/16875 [==============================] - 1s 53us/step - loss: 0.0378\n",
      "Epoch 90/100\n",
      "16875/16875 [==============================] - 1s 54us/step - loss: 0.0380\n",
      "Epoch 91/100\n",
      "16875/16875 [==============================] - 1s 53us/step - loss: 0.0378\n",
      "Epoch 92/100\n",
      "16875/16875 [==============================] - 1s 52us/step - loss: 0.0379\n",
      "Epoch 93/100\n",
      "16875/16875 [==============================] - 1s 52us/step - loss: 0.0375\n",
      "Epoch 94/100\n"
     ]
    },
    {
     "name": "stdout",
     "output_type": "stream",
     "text": [
      "16875/16875 [==============================] - 1s 52us/step - loss: 0.0381\n",
      "Epoch 95/100\n",
      "16875/16875 [==============================] - 1s 52us/step - loss: 0.0376\n",
      "Epoch 96/100\n",
      "16875/16875 [==============================] - 1s 54us/step - loss: 0.0378\n",
      "Epoch 97/100\n",
      "16875/16875 [==============================] - 1s 52us/step - loss: 0.0374\n",
      "Epoch 98/100\n",
      "16875/16875 [==============================] - 1s 52us/step - loss: 0.0377\n",
      "Epoch 99/100\n",
      "16875/16875 [==============================] - 1s 52us/step - loss: 0.0377\n",
      "Epoch 100/100\n",
      "16875/16875 [==============================] - 1s 52us/step - loss: 0.0373\n"
     ]
    },
    {
     "data": {
      "text/plain": [
       "<keras.callbacks.History at 0x13adc9150>"
      ]
     },
     "execution_count": 16,
     "metadata": {},
     "output_type": "execute_result"
    }
   ],
   "source": [
    "estimator2.fit(X_train, y_train, batch_size=10, epochs=100)"
   ]
  },
  {
   "cell_type": "code",
   "execution_count": 17,
   "metadata": {},
   "outputs": [],
   "source": [
    "y_pred = estimator2.predict(X_test)"
   ]
  },
  {
   "cell_type": "code",
   "execution_count": 18,
   "metadata": {},
   "outputs": [],
   "source": [
    "from sklearn.metrics import mean_squared_error"
   ]
  },
  {
   "cell_type": "code",
   "execution_count": 19,
   "metadata": {},
   "outputs": [],
   "source": [
    "mse = mean_squared_error(y_test, y_pred)"
   ]
  },
  {
   "cell_type": "code",
   "execution_count": 20,
   "metadata": {},
   "outputs": [
    {
     "name": "stdout",
     "output_type": "stream",
     "text": [
      "MSE: 0.12638792479448202\n"
     ]
    }
   ],
   "source": [
    "print(f'MSE: {mse}')"
   ]
  },
  {
   "cell_type": "code",
   "execution_count": 21,
   "metadata": {},
   "outputs": [],
   "source": [
    "df = rides[-21*24:]"
   ]
  },
  {
   "cell_type": "code",
   "execution_count": 22,
   "metadata": {},
   "outputs": [],
   "source": [
    "df['y_test'] = y_test.values\n",
    "df['y_pred'] = y_pred"
   ]
  },
  {
   "cell_type": "code",
   "execution_count": 23,
   "metadata": {},
   "outputs": [],
   "source": [
    "df = df[['dteday', 'y_test', 'y_pred']]"
   ]
  },
  {
   "cell_type": "code",
   "execution_count": 24,
   "metadata": {},
   "outputs": [
    {
     "data": {
      "text/plain": [
       "<matplotlib.axes._subplots.AxesSubplot at 0x13b01d250>"
      ]
     },
     "execution_count": 24,
     "metadata": {},
     "output_type": "execute_result"
    },
    {
     "data": {
      "image/png": "[encoded data removed]",
      "text/plain": [
       "<Figure size 432x288 with 1 Axes>"
      ]
     },
     "metadata": {
      "image/png": {
       "height": 261,
       "width": 405
      },
      "needs_background": "light"
     },
     "output_type": "display_data"
    }
   ],
   "source": [
    "df.set_index('dteday').plot()"
   ]
  },
  {
   "cell_type": "code",
   "execution_count": 25,
   "metadata": {},
   "outputs": [
    {
     "data": {
      "text/plain": [
       "16875   -0.356434\n",
       "16876   -0.587080\n",
       "16877   -0.878134\n",
       "16878   -1.004441\n",
       "16879   -1.042882\n",
       "           ...   \n",
       "17374   -0.394875\n",
       "17375   -0.559622\n",
       "17376   -0.554131\n",
       "17377   -0.713387\n",
       "17378   -0.779286\n",
       "Name: cnt, Length: 504, dtype: float64"
      ]
     },
     "execution_count": 25,
     "metadata": {},
     "output_type": "execute_result"
    }
   ],
   "source": [
    "y_test"
   ]
  },
  {
   "cell_type": "code",
   "execution_count": null,
   "metadata": {},
   "outputs": [],
   "source": []
  }
 ],
 "metadata": {
  "kernelspec": {
   "display_name": "Python 3",
   "language": "python",
   "name": "python3"
  },
  "language_info": {
   "codemirror_mode": {
    "name": "ipython",
    "version": 3
   },
   "file_extension": ".py",
   "mimetype": "text/x-python",
   "name": "python",
   "nbconvert_exporter": "python",
   "pygments_lexer": "ipython3",
   "version": "3.7.4"
  }
 },
 "nbformat": 4,
 "nbformat_minor": 2
}
